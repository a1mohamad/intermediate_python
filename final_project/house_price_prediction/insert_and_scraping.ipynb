{
 "cells": [
  {
   "cell_type": "markdown",
   "id": "7d2bf949",
   "metadata": {},
   "source": [
    "inserting our libraries that need"
   ]
  },
  {
   "cell_type": "code",
   "execution_count": null,
   "id": "e92ae963",
   "metadata": {},
   "outputs": [],
   "source": [
    "import pymongo\n",
    "import re\n",
    "from bs4 import BeautifulSoup\n",
    "import itertools"
   ]
  },
  {
   "cell_type": "markdown",
   "id": "9b3f122d",
   "metadata": {},
   "source": [
    "then maintain a function for connecting to our database for storing our datas\n",
    "in this project we use MongoDB database"
   ]
  },
  {
   "cell_type": "code",
   "execution_count": 25,
   "id": "20547a8f",
   "metadata": {},
   "outputs": [],
   "source": [
    "def connect_database():\n",
    "    conn = pymongo.MongoClient(\n",
    "            'localhost',\n",
    "             27017\n",
    "    )\n",
    "    db = conn['houses']\n",
    "    collection = db['berlin']\n",
    "    return collection"
   ]
  },
  {
   "cell_type": "markdown",
   "id": "56bb057e",
   "metadata": {},
   "source": [
    "then create a function that scraping our datas that saved from web in html files text where we find in #pages file\n",
    "saving datas from web in html files have been done in pages.ipynb"
   ]
  },
  {
   "cell_type": "code",
   "execution_count": 26,
   "id": "b75dd139",
   "metadata": {},
   "outputs": [],
   "source": [
    "def web_scrape():    \n",
    "    final_houses= []\n",
    "    for i in range(1,42):\n",
    "        houses=[]\n",
    "        with open('pages/web%i.html' %(i), 'rb') as f:\n",
    "\n",
    "            soup= BeautifulSoup(f.read(), 'html.parser')\n",
    "            houses_info_tag= soup.find_all(\n",
    "                'div',\n",
    "                attrs={'data-test-locator': 'ListingCardPropertyInfo'}\n",
    "            )\n",
    "\n",
    "            houses_price_tag= soup.find_all(\n",
    "                'div',\n",
    "                attrs={'data-test-locator': 'ListingCardInfoPrice' }\n",
    "            )\n",
    "\n",
    "            for j in range(len(houses_info_tag)):\n",
    "                house= []\n",
    "                house_info= houses_info_tag[j].text\n",
    "                house_info_up= house_info.split('•')\n",
    "                house_price= houses_price_tag[j].text\n",
    "                type_of_home= house_info_up[0].strip()\n",
    "                size= (re.findall(r'\\d+', house_info_up[1]))[0]\n",
    "                bedrooms= house_info_up[2][0]\n",
    "                date= house_info_up[3][5:]\n",
    "                price= re.findall(r'\\d+', house_price)\n",
    "                if len(price)> 1:\n",
    "                    final_price=str(int((int(price[0])+ int(price[1]))/2))\n",
    "                else:\n",
    "                    final_price= price[0]\n",
    "                house= [size, bedrooms, final_price, date, type_of_home]\n",
    "                houses.append(house)\n",
    "        final_houses.extend(houses)\n",
    "    final_houses.sort()\n",
    "    final_houses= list(k for k,_ in itertools.groupby(final_houses))\n",
    "    return final_houses"
   ]
  },
  {
   "cell_type": "markdown",
   "id": "6c0732b8",
   "metadata": {},
   "source": [
    "now create a function for inserting scraped data in our database"
   ]
  },
  {
   "cell_type": "code",
   "execution_count": 27,
   "id": "856d7c7d",
   "metadata": {},
   "outputs": [],
   "source": [
    "def insert_in_mongodb(final_houses, collection):\n",
    "    for every in final_houses:\n",
    "        data= {}\n",
    "        data['size']= every[0]\n",
    "        data['number of bedrooms']= every[1]\n",
    "        data['price']= every[2]\n",
    "        data['date']= every[3]\n",
    "        data['type of home']= every[4]\n",
    "        collection.insert_one(data)\n",
    "    return"
   ]
  },
  {
   "cell_type": "markdown",
   "id": "048280da",
   "metadata": {},
   "source": [
    "now using our functions"
   ]
  },
  {
   "cell_type": "code",
   "execution_count": 29,
   "id": "a2c123ac",
   "metadata": {},
   "outputs": [],
   "source": [
    "insert_in_mongodb(web_scrape(), connect_database())"
   ]
  }
 ],
 "metadata": {
  "kernelspec": {
   "display_name": "Python 3 (ipykernel)",
   "language": "python",
   "name": "python3"
  },
  "language_info": {
   "codemirror_mode": {
    "name": "ipython",
    "version": 3
   },
   "file_extension": ".py",
   "mimetype": "text/x-python",
   "name": "python",
   "nbconvert_exporter": "python",
   "pygments_lexer": "ipython3",
   "version": "3.9.13"
  }
 },
 "nbformat": 4,
 "nbformat_minor": 5
}
