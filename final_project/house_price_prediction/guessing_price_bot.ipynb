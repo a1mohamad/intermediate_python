{
 "cells": [
  {
   "cell_type": "markdown",
   "id": "ef94f2a9",
   "metadata": {},
   "source": [
    "first import libraries that we need"
   ]
  },
  {
   "cell_type": "code",
   "execution_count": 12,
   "id": "fa35a0a7",
   "metadata": {},
   "outputs": [],
   "source": [
    "import numpy as np\n",
    "from sklearn.linear_model import LinearRegression\n",
    "from sklearn.preprocessing import StandardScaler\n",
    "from linear_tools import connecting_db, giving_training_datas, arraying_data, linear_regression,predict_price\n",
    "from matplotlib import pyplot as plt\n",
    "import pymongo"
   ]
  },
  {
   "cell_type": "code",
   "execution_count": 18,
   "id": "14ad074c",
   "metadata": {},
   "outputs": [],
   "source": [
    "#run our functions and recive datas\n",
    "x_features = ['size(sqft)','number of bedrooms']\n",
    "x_train, y_train= giving_training_datas(connecting_db())\n",
    "#arraying them with numpy for using in sikit-learn\n",
    "X, y= arraying_data(x_train, y_train)"
   ]
  },
  {
   "cell_type": "code",
   "execution_count": 19,
   "id": "5ce6e29f",
   "metadata": {},
   "outputs": [
    {
     "name": "stdout",
     "output_type": "stream",
     "text": [
      "model parameters:                   w: [ 21.46856398 183.57985128], b:669.8043242468641\n"
     ]
    }
   ],
   "source": [
    "#linear model built and prediction prices of model in list for plotting them\n",
    "linear_model, y_pred= linear_regression(X, y)"
   ]
  },
  {
   "cell_type": "code",
   "execution_count": 21,
   "id": "58ad292b",
   "metadata": {
    "scrolled": false
   },
   "outputs": [
    {
     "name": "stdout",
     "output_type": "stream",
     "text": [
      "What is your size of house that you want to know the price ? \n",
      "100\n",
      "What is number of bedrooms that your building want to have ? \n",
      "2\n",
      "Your predicted price is : 3183\n"
     ]
    }
   ],
   "source": [
    "#getting customer numbers :D\n",
    "input_size= input('What is your size of house that you want to know the price ? \\n')\n",
    "input_bedrooms= input('What is number of bedrooms that your building want to have ? \\n')\n",
    "#giving customer prediction price :D\n",
    "predict_price(input_size, input_bedrooms, linear_model)"
   ]
  },
  {
   "cell_type": "code",
   "execution_count": null,
   "id": "effdf061",
   "metadata": {},
   "outputs": [],
   "source": []
  }
 ],
 "metadata": {
  "kernelspec": {
   "display_name": "Python 3 (ipykernel)",
   "language": "python",
   "name": "python3"
  },
  "language_info": {
   "codemirror_mode": {
    "name": "ipython",
    "version": 3
   },
   "file_extension": ".py",
   "mimetype": "text/x-python",
   "name": "python",
   "nbconvert_exporter": "python",
   "pygments_lexer": "ipython3",
   "version": "3.9.13"
  }
 },
 "nbformat": 4,
 "nbformat_minor": 5
}
