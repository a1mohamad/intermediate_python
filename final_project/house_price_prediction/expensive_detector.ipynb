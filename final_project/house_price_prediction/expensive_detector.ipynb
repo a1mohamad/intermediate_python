{
 "cells": [
  {
   "cell_type": "code",
   "execution_count": 103,
   "id": "1c57832d",
   "metadata": {},
   "outputs": [],
   "source": [
    "import numpy as np\n",
    "from sklearn.linear_model import LinearRegression,LogisticRegression\n",
    "from linear_tools import connecting_db, giving_training_datas, arraying_data, linear_regression,predict_price\n",
    "from sklearn.preprocessing import StandardScaler\n",
    "from matplotlib import pyplot as plt\n",
    "import pymongo"
   ]
  },
  {
   "cell_type": "code",
   "execution_count": 104,
   "id": "00a27bee",
   "metadata": {},
   "outputs": [],
   "source": [
    "x_train, y_train= giving_training_datas(connecting_db())\n",
    "X, y= arraying_data(x_train, y_train)\n",
    "y_linear= y"
   ]
  },
  {
   "cell_type": "code",
   "execution_count": 105,
   "id": "3207f49a",
   "metadata": {
    "scrolled": false
   },
   "outputs": [
    {
     "name": "stdout",
     "output_type": "stream",
     "text": [
      "model parameters:                   w: [ 21.46856398 183.57985128], b:669.8043242468641\n"
     ]
    }
   ],
   "source": [
    "linear_model, y_pred_linear= linear_regression(X, y)\n",
    "y_clsf= np.zeros_like(y)\n",
    "for i in range(len(y_pred_linear)):\n",
    "    if y_linear[i]-y_pred_linear[i] < 800:\n",
    "        y_clsf[i]= 1\n",
    "    else:\n",
    "        y_clsf[i]= 0"
   ]
  },
  {
   "cell_type": "code",
   "execution_count": 106,
   "id": "8b0a8976",
   "metadata": {},
   "outputs": [],
   "source": [
    "for i in range(len(X)):\n",
    "    X[i][1]= y_linear[i]"
   ]
  },
  {
   "cell_type": "code",
   "execution_count": 107,
   "id": "8172aec8",
   "metadata": {},
   "outputs": [],
   "source": [
    "def lr_model(x, y):\n",
    "    log_reg= LogisticRegression()\n",
    "    log_reg.fit(x, y)\n",
    "    return log_reg\n"
   ]
  },
  {
   "cell_type": "code",
   "execution_count": 108,
   "id": "a84ed46d",
   "metadata": {},
   "outputs": [],
   "source": [
    "def predict_expencive_house(size, price, log_reg):\n",
    "    features= [np.zeros(2)]\n",
    "    features[0][0]= size\n",
    "    features[0][1]= price\n",
    "    expencive= log_reg.predict(features)[0]\n",
    "    return expencive"
   ]
  },
  {
   "cell_type": "code",
   "execution_count": 109,
   "id": "ae4cb536",
   "metadata": {},
   "outputs": [
    {
     "name": "stdout",
     "output_type": "stream",
     "text": [
      "Please insert size of the house you may consider: \n",
      "100\n",
      "Please insert price of it: \n",
      "9000\n",
      "oh by my data,I think its expencive!!!\n"
     ]
    }
   ],
   "source": [
    "size= input('Please insert size of the house you may consider: \\n')\n",
    "price= input('Please insert price of it: \\n')\n",
    "answer= predict_expencive_house(size, price, lr_model(X, y_clsf))\n",
    "if answer == 0:\n",
    "    print('oh by my data,I think its expencive!!!')\n",
    "else:\n",
    "    print('I think consider it in your buy list for more research :D')"
   ]
  },
  {
   "cell_type": "code",
   "execution_count": null,
   "id": "eb35bde6",
   "metadata": {},
   "outputs": [],
   "source": []
  }
 ],
 "metadata": {
  "kernelspec": {
   "display_name": "Python 3 (ipykernel)",
   "language": "python",
   "name": "python3"
  },
  "language_info": {
   "codemirror_mode": {
    "name": "ipython",
    "version": 3
   },
   "file_extension": ".py",
   "mimetype": "text/x-python",
   "name": "python",
   "nbconvert_exporter": "python",
   "pygments_lexer": "ipython3",
   "version": "3.9.13"
  }
 },
 "nbformat": 4,
 "nbformat_minor": 5
}
