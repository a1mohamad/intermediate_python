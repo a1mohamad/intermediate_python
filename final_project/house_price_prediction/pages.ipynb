{
 "cells": [
  {
   "cell_type": "code",
   "execution_count": 1,
   "id": "5617580a",
   "metadata": {},
   "outputs": [],
   "source": [
    "import requests"
   ]
  },
  {
   "cell_type": "markdown",
   "id": "5f30d446",
   "metadata": {},
   "source": [
    "create a function for saving web pages in html text file"
   ]
  },
  {
   "cell_type": "code",
   "execution_count": 4,
   "id": "ce306135",
   "metadata": {},
   "outputs": [],
   "source": [
    "def saving_pages():\n",
    "    for i in range(1, 42):\n",
    "        r= requests.get(\n",
    "                'https://housinganywhere.com/s/Berlin--Germany/apartment-for-rent?page=%i' %(i)\n",
    "        )\n",
    "        with open('web%i.html' %i, 'wb+') as f:\n",
    "            f.write(r.content)\n",
    "    return"
   ]
  },
  {
   "cell_type": "code",
   "execution_count": null,
   "id": "422fdcf6",
   "metadata": {},
   "outputs": [],
   "source": [
    "saving_pages()"
   ]
  }
 ],
 "metadata": {
  "kernelspec": {
   "display_name": "Python 3 (ipykernel)",
   "language": "python",
   "name": "python3"
  },
  "language_info": {
   "codemirror_mode": {
    "name": "ipython",
    "version": 3
   },
   "file_extension": ".py",
   "mimetype": "text/x-python",
   "name": "python",
   "nbconvert_exporter": "python",
   "pygments_lexer": "ipython3",
   "version": "3.9.13"
  }
 },
 "nbformat": 4,
 "nbformat_minor": 5
}
